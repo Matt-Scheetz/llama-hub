{
 "cells": [
  {
   "cell_type": "markdown",
   "metadata": {},
   "source": [
    "# Mix Self-Consistency Notebook \n",
    "\n",
    "<a href=\"https://colab.research.google.com/github/run-llama/llama-hub/blob/main/llama_hub/llama_packs/tables/mix_self_consistency/mix_self_consistency.ipynb\" target=\"_parent\">\n",
    "<img src=\"https://colab.research.google.com/assets/colab-badge.svg\" alt=\"Open In Colab\"/></a>\n",
    "\n",
    "In this notebook, we highlight the mix self-consistency method proposed in \"Rethinking Tabular Data Understanding with Large Language Models\" paper by Liu et al.[https://arxiv.org/pdf/2312.16702v1.pdf].\n",
    "\n",
    "LLMs can reason over tabular data in 2 main ways:\n",
    "1. textual reasoning via direct prompting\n",
    "2. symbolic reasoning via program synthesis (e.g. python, SQL, etc)\n",
    "\n",
    "The key insight of the paper is that different reasoning pathways work well in different tasks. By aggregating results from both with a self-consistency mechanism (i.e. majority voting), it achieves SoTA performance.\n",
    "\n",
    "We implemented the paper based on the prompts described in the paper, and adapted it to get it working. That said, this is marked as beta, so there may still be kinks to work through. Do you have suggestions / contributions on how to improve the robustness? Let us know! "
   ]
  },
  {
   "cell_type": "markdown",
   "metadata": {},
   "source": [
    "# Download Data\n",
    "\n",
    "We use the [WikiTableQuestions dataset](https://ppasupat.github.io/WikiTableQuestions/) (Pasupat and Liang 2015) as our test dataset.\n",
    "\n",
    "WikiTableQuestions is a question-answering dataset over various semi-structured tables taken from Wikipedia. These tables range in size from a few rows/columns to mnay rows. Some columns may contain multi-part information as well (e.g. a temperature column may contain both Fahrenheight and Celsius)."
   ]
  },
  {
   "cell_type": "code",
   "execution_count": null,
   "metadata": {
    "scrolled": true
   },
   "outputs": [],
   "source": [
    "!wget \"https://github.com/ppasupat/WikiTableQuestions/releases/download/v1.0.2/WikiTableQuestions-1.0.2-compact.zip\" -O data.zip\n",
    "!unzip data.zip"
   ]
  },
  {
   "cell_type": "markdown",
   "metadata": {},
   "source": [
    "Let's visualize some examples."
   ]
  },
  {
   "cell_type": "code",
   "execution_count": 1,
   "metadata": {},
   "outputs": [
    {
     "data": {
      "text/html": [
       "<div>\n",
       "<style scoped>\n",
       "    .dataframe tbody tr th:only-of-type {\n",
       "        vertical-align: middle;\n",
       "    }\n",
       "\n",
       "    .dataframe tbody tr th {\n",
       "        vertical-align: top;\n",
       "    }\n",
       "\n",
       "    .dataframe thead th {\n",
       "        text-align: right;\n",
       "    }\n",
       "</style>\n",
       "<table border=\"1\" class=\"dataframe\">\n",
       "  <thead>\n",
       "    <tr style=\"text-align: right;\">\n",
       "      <th></th>\n",
       "      <th>id</th>\n",
       "      <th>utterance</th>\n",
       "      <th>context</th>\n",
       "      <th>targetValue</th>\n",
       "    </tr>\n",
       "  </thead>\n",
       "  <tbody>\n",
       "    <tr>\n",
       "      <th>0</th>\n",
       "      <td>nt-0</td>\n",
       "      <td>what was the last year where this team was a p...</td>\n",
       "      <td>csv/204-csv/590.csv</td>\n",
       "      <td>2004</td>\n",
       "    </tr>\n",
       "    <tr>\n",
       "      <th>1</th>\n",
       "      <td>nt-1</td>\n",
       "      <td>in what city did piotr's last 1st place finish...</td>\n",
       "      <td>csv/204-csv/622.csv</td>\n",
       "      <td>Bangkok, Thailand</td>\n",
       "    </tr>\n",
       "    <tr>\n",
       "      <th>2</th>\n",
       "      <td>nt-2</td>\n",
       "      <td>which team won previous to crettyard?</td>\n",
       "      <td>csv/204-csv/772.csv</td>\n",
       "      <td>Wolfe Tones</td>\n",
       "    </tr>\n",
       "    <tr>\n",
       "      <th>3</th>\n",
       "      <td>nt-3</td>\n",
       "      <td>how many more passengers flew to los angeles t...</td>\n",
       "      <td>csv/203-csv/515.csv</td>\n",
       "      <td>12,467</td>\n",
       "    </tr>\n",
       "    <tr>\n",
       "      <th>4</th>\n",
       "      <td>nt-4</td>\n",
       "      <td>who was the opponent in the first game of the ...</td>\n",
       "      <td>csv/204-csv/495.csv</td>\n",
       "      <td>Derby County</td>\n",
       "    </tr>\n",
       "  </tbody>\n",
       "</table>\n",
       "</div>"
      ],
      "text/plain": [
       "     id                                          utterance  \\\n",
       "0  nt-0  what was the last year where this team was a p...   \n",
       "1  nt-1  in what city did piotr's last 1st place finish...   \n",
       "2  nt-2              which team won previous to crettyard?   \n",
       "3  nt-3  how many more passengers flew to los angeles t...   \n",
       "4  nt-4  who was the opponent in the first game of the ...   \n",
       "\n",
       "               context        targetValue  \n",
       "0  csv/204-csv/590.csv               2004  \n",
       "1  csv/204-csv/622.csv  Bangkok, Thailand  \n",
       "2  csv/204-csv/772.csv        Wolfe Tones  \n",
       "3  csv/203-csv/515.csv             12,467  \n",
       "4  csv/204-csv/495.csv       Derby County  "
      ]
     },
     "execution_count": 1,
     "metadata": {},
     "output_type": "execute_result"
    }
   ],
   "source": [
    "import pandas as pd\n",
    "\n",
    "examples = pd.read_table('WikiTableQuestions/data/training-before300.tsv')\n",
    "\n",
    "examples.head()"
   ]
  },
  {
   "cell_type": "code",
   "execution_count": 2,
   "metadata": {},
   "outputs": [
    {
     "name": "stdout",
     "output_type": "stream",
     "text": [
      "The question is:  what was the last year where this team was a part of the usl a-league?\n"
     ]
    }
   ],
   "source": [
    "example = examples.iloc[0]\n",
    "question = example['utterance']\n",
    "context = example['context']\n",
    "print('The question is: ', question)"
   ]
  },
  {
   "cell_type": "markdown",
   "metadata": {},
   "source": [
    "Let's load the table that can be used as context to answer the question in the first example."
   ]
  },
  {
   "cell_type": "code",
   "execution_count": 3,
   "metadata": {},
   "outputs": [
    {
     "data": {
      "text/html": [
       "<div>\n",
       "<style scoped>\n",
       "    .dataframe tbody tr th:only-of-type {\n",
       "        vertical-align: middle;\n",
       "    }\n",
       "\n",
       "    .dataframe tbody tr th {\n",
       "        vertical-align: top;\n",
       "    }\n",
       "\n",
       "    .dataframe thead th {\n",
       "        text-align: right;\n",
       "    }\n",
       "</style>\n",
       "<table border=\"1\" class=\"dataframe\">\n",
       "  <thead>\n",
       "    <tr style=\"text-align: right;\">\n",
       "      <th></th>\n",
       "      <th>Year</th>\n",
       "      <th>Division</th>\n",
       "      <th>League</th>\n",
       "      <th>Regular Season</th>\n",
       "      <th>Playoffs</th>\n",
       "      <th>Open Cup</th>\n",
       "      <th>Avg. Attendance</th>\n",
       "    </tr>\n",
       "  </thead>\n",
       "  <tbody>\n",
       "    <tr>\n",
       "      <th>0</th>\n",
       "      <td>2001</td>\n",
       "      <td>2</td>\n",
       "      <td>USL A-League</td>\n",
       "      <td>4th, Western</td>\n",
       "      <td>Quarterfinals</td>\n",
       "      <td>Did not qualify</td>\n",
       "      <td>7,169</td>\n",
       "    </tr>\n",
       "    <tr>\n",
       "      <th>1</th>\n",
       "      <td>2002</td>\n",
       "      <td>2</td>\n",
       "      <td>USL A-League</td>\n",
       "      <td>2nd, Pacific</td>\n",
       "      <td>1st Round</td>\n",
       "      <td>Did not qualify</td>\n",
       "      <td>6,260</td>\n",
       "    </tr>\n",
       "    <tr>\n",
       "      <th>2</th>\n",
       "      <td>2003</td>\n",
       "      <td>2</td>\n",
       "      <td>USL A-League</td>\n",
       "      <td>3rd, Pacific</td>\n",
       "      <td>Did not qualify</td>\n",
       "      <td>Did not qualify</td>\n",
       "      <td>5,871</td>\n",
       "    </tr>\n",
       "    <tr>\n",
       "      <th>3</th>\n",
       "      <td>2004</td>\n",
       "      <td>2</td>\n",
       "      <td>USL A-League</td>\n",
       "      <td>1st, Western</td>\n",
       "      <td>Quarterfinals</td>\n",
       "      <td>4th Round</td>\n",
       "      <td>5,628</td>\n",
       "    </tr>\n",
       "    <tr>\n",
       "      <th>4</th>\n",
       "      <td>2005</td>\n",
       "      <td>2</td>\n",
       "      <td>USL First Division</td>\n",
       "      <td>5th</td>\n",
       "      <td>Quarterfinals</td>\n",
       "      <td>4th Round</td>\n",
       "      <td>6,028</td>\n",
       "    </tr>\n",
       "  </tbody>\n",
       "</table>\n",
       "</div>"
      ],
      "text/plain": [
       "   Year  Division              League Regular Season         Playoffs  \\\n",
       "0  2001         2        USL A-League   4th, Western    Quarterfinals   \n",
       "1  2002         2        USL A-League   2nd, Pacific        1st Round   \n",
       "2  2003         2        USL A-League   3rd, Pacific  Did not qualify   \n",
       "3  2004         2        USL A-League   1st, Western    Quarterfinals   \n",
       "4  2005         2  USL First Division            5th    Quarterfinals   \n",
       "\n",
       "          Open Cup Avg. Attendance  \n",
       "0  Did not qualify           7,169  \n",
       "1  Did not qualify           6,260  \n",
       "2  Did not qualify           5,871  \n",
       "3        4th Round           5,628  \n",
       "4        4th Round           6,028  "
      ]
     },
     "execution_count": 3,
     "metadata": {},
     "output_type": "execute_result"
    }
   ],
   "source": [
    "table = pd.read_csv('WikiTableQuestions/' + context)\n",
    "table.head()"
   ]
  },
  {
   "cell_type": "markdown",
   "metadata": {},
   "source": [
    "The corect answer should be 2004."
   ]
  },
  {
   "cell_type": "markdown",
   "metadata": {},
   "source": [
    "## Load Pack / Setup\n",
    "\n",
    "Now we do `download_llama_pack` to load the Mix Self Consistency LlamaPack (you can also import the module directly if using the llama-hub package).\n",
    "\n",
    "We will also optionally setup observability/tracing so we can observe the intermediate steps."
   ]
  },
  {
   "cell_type": "code",
   "execution_count": 4,
   "metadata": {},
   "outputs": [],
   "source": [
    "# Option: if developing with the llama_hub package\n",
    "from llama_hub.llama_packs.tables.mix_self_consistency.base import (\n",
    "    MixSelfConsistencyQueryEngine,\n",
    ")\n",
    "\n",
    "# Option: download llama_pack\n",
    "# from llama_index.llama_pack import download_llama_pack\n",
    "\n",
    "# download_llama_pack(\n",
    "#     \"MixSelfConsistencyPack\",\n",
    "#     \"./mix_self_consistency_pack\",\n",
    "#     skip_load=True,\n",
    "#     # leave the below line commented out if using the notebook on main\n",
    "#     llama_hub_url=\"https://raw.githubusercontent.com/run-llama/llama-hub/suo/table_qa/llama_hub\"\n",
    "# )\n",
    "# from mix_self_consistency_pack.base import MixSelfConsistencyQueryEngine"
   ]
  },
  {
   "cell_type": "code",
   "execution_count": 5,
   "metadata": {},
   "outputs": [],
   "source": [
    "from llama_index.llms import OpenAI\n",
    "\n",
    "llm = OpenAI()"
   ]
  },
  {
   "cell_type": "markdown",
   "metadata": {},
   "source": [
    "### Optional: Setup Observability\n",
    "\n",
    "Here we will use our Arize Phoenix integration to view traces through the query engine."
   ]
  },
  {
   "cell_type": "code",
   "execution_count": null,
   "metadata": {},
   "outputs": [],
   "source": [
    "import phoenix as px\n",
    "import llama_index\n",
    "\n",
    "px.launch_app()\n",
    "llama_index.set_global_handler(\"arize_phoenix\")"
   ]
  },
  {
   "cell_type": "markdown",
   "metadata": {},
   "source": [
    "## Run experiments"
   ]
  },
  {
   "cell_type": "markdown",
   "metadata": {},
   "source": [
    "Let's try out different modes."
   ]
  },
  {
   "cell_type": "markdown",
   "metadata": {},
   "source": [
    "### Textual Reasoning Only (i.e. direct prompting)"
   ]
  },
  {
   "cell_type": "markdown",
   "metadata": {},
   "source": [
    "Let's start with using only the textual reasoning path.\n",
    "Basically, we directly convert the pandas dataframe into a markdown representation, and inject into the prompt for in-context reasoning."
   ]
  },
  {
   "cell_type": "code",
   "execution_count": 7,
   "metadata": {},
   "outputs": [],
   "source": [
    "query_engine = MixSelfConsistencyQueryEngine(\n",
    "    table=table, \n",
    "    llm=llm,\n",
    "    text_paths=1,\n",
    "    symbolic_paths=0,\n",
    "    aggregation_mode='none',\n",
    "    verbose=True,\n",
    ")"
   ]
  },
  {
   "cell_type": "code",
   "execution_count": 8,
   "metadata": {},
   "outputs": [
    {
     "name": "stdout",
     "output_type": "stream",
     "text": [
      "\u001b[1;3;38;2;155;135;227m> Running module c6ffdfda-15f3-4a4c-9d7d-3a7ab025437c with input: \n",
      "question: what was the last year where this team was a part of the usl a-league?\n",
      "table: |    |   Year |   Division | League              | Regular Season   | Playoffs        | Open Cup        | Avg. Attendance   |\n",
      "|---:|-------:|-----------:|:--------------------|:-----------------|:----...\n",
      "\n",
      "\u001b[0m\u001b[1;3;38;2;155;135;227m> Running module fa48cf7a-e2c2-47d7-994c-2e631e9c84b0 with input: \n",
      "messages: You are an advanced AI capable of analyzing and understanding information within tables. Read the table below.\n",
      "\n",
      "|    |   Year |   Division | League              | Regular Season   | Playoffs        | ...\n",
      "\n",
      "\u001b[0m\u001b[1;3;38;2;155;135;227m> Running module df320e1c-8268-4f9f-813d-4ce0d9322de6 with input: \n",
      "input: assistant: Step 1: Identify the rows where the team was a part of the USL A-League.\n",
      "- Row 0: Year 2001, Division 2, League USL A-League\n",
      "- Row 1: Year 2002, Division 2, League USL A-League\n",
      "- Row 2: Yea...\n",
      "\n",
      "\u001b[0mText results: ['2003']\n",
      "Symbolic results: []\n",
      "2003\n"
     ]
    }
   ],
   "source": [
    "response = await query_engine.aquery(example['utterance'])\n",
    "print(response)"
   ]
  },
  {
   "cell_type": "markdown",
   "metadata": {},
   "source": [
    "We get an incorrect answer. "
   ]
  },
  {
   "cell_type": "code",
   "execution_count": 9,
   "metadata": {},
   "outputs": [],
   "source": [
    "query_engine = MixSelfConsistencyQueryEngine(\n",
    "    table=table, \n",
    "    llm=llm,\n",
    "    text_paths=5,\n",
    "    symbolic_paths=0,\n",
    "    aggregation_mode='self_consistency',\n",
    "    verbose=True,\n",
    ")"
   ]
  },
  {
   "cell_type": "code",
   "execution_count": 10,
   "metadata": {},
   "outputs": [
    {
     "name": "stdout",
     "output_type": "stream",
     "text": [
      "\u001b[1;3;38;2;155;135;227m> Running module 09c4945f-0eee-4cf6-b33c-82145ad6b13e with input: \n",
      "question: what was the last year where this team was a part of the usl a-league?\n",
      "table: |    |   Year |   Division | League              | Regular Season   | Playoffs        | Open Cup        | Avg. Attendance   |\n",
      "|---:|-------:|-----------:|:--------------------|:-----------------|:----...\n",
      "\n",
      "\u001b[0m\u001b[1;3;38;2;155;135;227m> Running module 9d579716-5a76-4da2-97be-00daf3ac78df with input: \n",
      "messages: You are an advanced AI capable of analyzing and understanding information within tables. Read the table below.\n",
      "\n",
      "|    |   Year |   Division | League              | Regular Season   | Playoffs        | ...\n",
      "\n",
      "\u001b[0m\u001b[1;3;38;2;155;135;227m> Running module c7954d0c-d4a4-4034-a3f1-3207d55f9c7b with input: \n",
      "question: what was the last year where this team was a part of the usl a-league?\n",
      "table: |    |   Year |   Division | League              | Regular Season   | Playoffs        | Open Cup        | Avg. Attendance   |\n",
      "|---:|-------:|-----------:|:--------------------|:-----------------|:----...\n",
      "\n",
      "\u001b[0m\u001b[1;3;38;2;155;135;227m> Running module 50a7e35d-3c01-444e-bd72-134a20975611 with input: \n",
      "messages: You are an advanced AI capable of analyzing and understanding information within tables. Read the table below.\n",
      "\n",
      "|    |   Year |   Division | League              | Regular Season   | Playoffs        | ...\n",
      "\n",
      "\u001b[0m\u001b[1;3;38;2;155;135;227m> Running module d361ad39-c313-4ad5-9a1f-3e7a14a4eab5 with input: \n",
      "question: what was the last year where this team was a part of the usl a-league?\n",
      "table: |    |   Year |   Division | League              | Regular Season   | Playoffs        | Open Cup        | Avg. Attendance   |\n",
      "|---:|-------:|-----------:|:--------------------|:-----------------|:----...\n",
      "\n",
      "\u001b[0m\u001b[1;3;38;2;155;135;227m> Running module 7b28c258-bed1-4b72-ae46-be971145550d with input: \n",
      "messages: You are an advanced AI capable of analyzing and understanding information within tables. Read the table below.\n",
      "\n",
      "|    |   Year |   Division | League              | Regular Season   | Playoffs        | ...\n",
      "\n",
      "\u001b[0m\u001b[1;3;38;2;155;135;227m> Running module 7dfbcedd-8296-4fc2-8b16-2d5a3d2e9d46 with input: \n",
      "question: what was the last year where this team was a part of the usl a-league?\n",
      "table: |    |   Year |   Division | League              | Regular Season   | Playoffs        | Open Cup        | Avg. Attendance   |\n",
      "|---:|-------:|-----------:|:--------------------|:-----------------|:----...\n",
      "\n",
      "\u001b[0m\u001b[1;3;38;2;155;135;227m> Running module 8d27ae07-b746-44c5-a7e6-8b5609675ba1 with input: \n",
      "messages: You are an advanced AI capable of analyzing and understanding information within tables. Read the table below.\n",
      "\n",
      "|    |   Year |   Division | League              | Regular Season   | Playoffs        | ...\n",
      "\n",
      "\u001b[0m\u001b[1;3;38;2;155;135;227m> Running module 9a2420c3-61f7-4ad4-8d4c-1a71c5d14126 with input: \n",
      "question: what was the last year where this team was a part of the usl a-league?\n",
      "table: |    |   Year |   Division | League              | Regular Season   | Playoffs        | Open Cup        | Avg. Attendance   |\n",
      "|---:|-------:|-----------:|:--------------------|:-----------------|:----...\n",
      "\n",
      "\u001b[0m\u001b[1;3;38;2;155;135;227m> Running module a379c8a9-5399-4302-ae4b-d810904b765a with input: \n",
      "messages: You are an advanced AI capable of analyzing and understanding information within tables. Read the table below.\n",
      "\n",
      "|    |   Year |   Division | League              | Regular Season   | Playoffs        | ...\n",
      "\n",
      "\u001b[0m\u001b[1;3;38;2;155;135;227m> Running module d400d676-2b06-45f3-8683-866b3d424631 with input: \n",
      "input: assistant: To find the last year when this team was a part of the USL A-League, we need to find the row where the \"League\" column has the value \"USL A-League\" and then identify the corresponding year ...\n",
      "\n",
      "\u001b[0m\u001b[1;3;38;2;155;135;227m> Running module 344855a3-6a80-49be-91ec-5fff68cc164b with input: \n",
      "input: assistant: Step 1: Identify the rows where the team was a part of the USL A-League.\n",
      "Row 0: Year 2001, Division 2, League USL A-League\n",
      "Row 1: Year 2002, Division 2, League USL A-League\n",
      "Row 2: Year 2003...\n",
      "\n",
      "\u001b[0m\u001b[1;3;38;2;155;135;227m> Running module 96d3470f-354b-40e5-91f4-0bc59156c277 with input: \n",
      "input: assistant: Step 1: Identify the rows where the \"League\" column is \"USL A-League\"\n",
      "Row 0: League = USL A-League\n",
      "Row 1: League = USL A-League\n",
      "Row 2: League = USL A-League\n",
      "\n",
      "Step 2: Determine the last year...\n",
      "\n",
      "\u001b[0m\u001b[1;3;38;2;155;135;227m> Running module 29a1e114-c7f1-45b1-aa56-aa2d543ae94c with input: \n",
      "input: assistant: Step 1: Analyzing the table\n",
      "\n",
      "Looking at the \"Division\" column, we can see that the team was a part of the USL A-League in the years 2001, 2002, 2003, and 2004. \n",
      "\n",
      "Step 2: Finding the last ye...\n",
      "\n",
      "\u001b[0m\u001b[1;3;38;2;155;135;227m> Running module 70e9bd09-f563-4dde-8149-f285a1367ca1 with input: \n",
      "input: assistant: The last year where this team was a part of the USL A-League can be determined by analyzing the \"League\" column in the table. \n",
      "\n",
      "Step 1: Identify the rows where the \"League\" column contains ...\n",
      "\n",
      "\u001b[0mText results: ['2003', '2003', '2003', '2003', '2003']\n",
      "Symbolic results: []\n",
      "2003\n"
     ]
    }
   ],
   "source": [
    "response = await query_engine.aquery(example['utterance'])\n",
    "print(response)"
   ]
  },
  {
   "cell_type": "markdown",
   "metadata": {},
   "source": [
    "We still get incorrect result after sampling 5 textua reasoning paths, and aggregating the results via self-consistency."
   ]
  },
  {
   "cell_type": "markdown",
   "metadata": {},
   "source": [
    "### Symbolid Reasoning Only (i.e. python shell)"
   ]
  },
  {
   "cell_type": "markdown",
   "metadata": {},
   "source": [
    "Now, let's use symbolic reasoning. Here, LLM generates python expressions directly manipuate the pandas dataframe."
   ]
  },
  {
   "cell_type": "code",
   "execution_count": 13,
   "metadata": {},
   "outputs": [],
   "source": [
    "query_engine = MixSelfConsistencyQueryEngine(\n",
    "    table=table, \n",
    "    llm=llm,\n",
    "    text_paths=0,\n",
    "    symbolic_paths=1,\n",
    "    aggregation_mode='none',\n",
    "    verbose=True,\n",
    ")"
   ]
  },
  {
   "cell_type": "code",
   "execution_count": 14,
   "metadata": {},
   "outputs": [
    {
     "name": "stdout",
     "output_type": "stream",
     "text": [
      "> Pandas Instructions:\n",
      "```\n",
      "df[df['League'] == 'USL A-League']['Year'].max()\n",
      "```\n",
      "> Pandas Output: 2004\n",
      "Text results: []\n",
      "Symbolic results: ['2004']\n",
      "2004\n"
     ]
    }
   ],
   "source": [
    "response = await query_engine.aquery(example['utterance'])\n",
    "print(response)"
   ]
  },
  {
   "cell_type": "markdown",
   "metadata": {},
   "source": [
    "We get the correct answer here. "
   ]
  },
  {
   "cell_type": "markdown",
   "metadata": {},
   "source": [
    "### Aggregation via Self-Evaluation"
   ]
  },
  {
   "cell_type": "markdown",
   "metadata": {},
   "source": [
    "Now we consider self-evaluation for aggregating results across textual and symbolic reasoning paths.\n",
    "Basically, we tell the LLM what each reasoning path is good at to obtain a final result."
   ]
  },
  {
   "cell_type": "code",
   "execution_count": 15,
   "metadata": {},
   "outputs": [],
   "source": [
    "query_engine = MixSelfConsistencyQueryEngine(\n",
    "    table=table, \n",
    "    llm=llm,\n",
    "    text_paths=1,\n",
    "    symbolic_paths=1,\n",
    "    aggregation_mode='self_evaluation',\n",
    "    verbose=True,\n",
    ")"
   ]
  },
  {
   "cell_type": "code",
   "execution_count": 16,
   "metadata": {},
   "outputs": [
    {
     "name": "stdout",
     "output_type": "stream",
     "text": [
      "\u001b[1;3;38;2;155;135;227m> Running module 159fc440-4a11-472b-860c-c0e83c11eb97 with input: \n",
      "question: what was the last year where this team was a part of the usl a-league?\n",
      "table: |    |   Year |   Division | League              | Regular Season   | Playoffs        | Open Cup        | Avg. Attendance   |\n",
      "|---:|-------:|-----------:|:--------------------|:-----------------|:----...\n",
      "\n",
      "\u001b[0m\u001b[1;3;38;2;155;135;227m> Running module 2666e967-c255-4c55-a157-978e1dd2c2ec with input: \n",
      "messages: You are an advanced AI capable of analyzing and understanding information within tables. Read the table below.\n",
      "\n",
      "|    |   Year |   Division | League              | Regular Season   | Playoffs        | ...\n",
      "\n",
      "\u001b[0m> Pandas Instructions:\n",
      "```\n",
      "df[df['League'] == 'USL A-League']['Year'].max()\n",
      "```\n",
      "> Pandas Output: 2004\n",
      "\u001b[1;3;38;2;155;135;227m> Running module 74cbb743-8519-4454-a3a8-125e4a6ec4da with input: \n",
      "input: assistant: Step 1: Identify the rows where the team was a part of the USL A-League.\n",
      "Rows 0, 1, 2, 3 indicate that the team was a part of the USL A-League.\n",
      "\n",
      "Step 2: Determine the last year mentioned in...\n",
      "\n",
      "\u001b[0mText results: ['2004']\n",
      "Symbolic results: ['2004']\n",
      "2004\n"
     ]
    }
   ],
   "source": [
    "response = await query_engine.aquery(example['utterance'])\n",
    "print(response)"
   ]
  },
  {
   "cell_type": "markdown",
   "metadata": {},
   "source": [
    "We obtain the correct result now."
   ]
  },
  {
   "cell_type": "markdown",
   "metadata": {},
   "source": [
    "### Aggregation via Mix Self-Consistency"
   ]
  },
  {
   "cell_type": "markdown",
   "metadata": {},
   "source": [
    "Now, we consider the SoTA method, which aggregates results across reasoning paths via self-consistency (i.e. majority voting) "
   ]
  },
  {
   "cell_type": "code",
   "execution_count": 19,
   "metadata": {},
   "outputs": [],
   "source": [
    "query_engine = MixSelfConsistencyQueryEngine(\n",
    "    table=table, \n",
    "    llm=llm,\n",
    "    text_paths=5,\n",
    "    symbolic_paths=5,\n",
    "    aggregation_mode='self_consistency',\n",
    "    verbose=True,\n",
    ")"
   ]
  },
  {
   "cell_type": "code",
   "execution_count": 20,
   "metadata": {},
   "outputs": [
    {
     "name": "stdout",
     "output_type": "stream",
     "text": [
      "\u001b[1;3;38;2;155;135;227m> Running module 0c3ddd36-8afe-448c-b178-13069037e735 with input: \n",
      "question: what was the last year where this team was a part of the usl a-league?\n",
      "table: |    |   Year |   Division | League              | Regular Season   | Playoffs        | Open Cup        | Avg. Attendance   |\n",
      "|---:|-------:|-----------:|:--------------------|:-----------------|:----...\n",
      "\n",
      "\u001b[0m\u001b[1;3;38;2;155;135;227m> Running module 89924095-f833-4ac0-a970-bf12425a6e78 with input: \n",
      "messages: You are an advanced AI capable of analyzing and understanding information within tables. Read the table below.\n",
      "\n",
      "|    |   Year |   Division | League              | Regular Season   | Playoffs        | ...\n",
      "\n",
      "\u001b[0m\u001b[1;3;38;2;155;135;227m> Running module 11c478b8-91bc-4c3e-b351-8c98a7955c7d with input: \n",
      "question: what was the last year where this team was a part of the usl a-league?\n",
      "table: |    |   Year |   Division | League              | Regular Season   | Playoffs        | Open Cup        | Avg. Attendance   |\n",
      "|---:|-------:|-----------:|:--------------------|:-----------------|:----...\n",
      "\n",
      "\u001b[0m\u001b[1;3;38;2;155;135;227m> Running module eacfc4ec-6813-44b2-bd6f-c5c1c98ef148 with input: \n",
      "messages: You are an advanced AI capable of analyzing and understanding information within tables. Read the table below.\n",
      "\n",
      "|    |   Year |   Division | League              | Regular Season   | Playoffs        | ...\n",
      "\n",
      "\u001b[0m\u001b[1;3;38;2;155;135;227m> Running module bda3d0f3-b14d-4485-9471-e0fff5e044e9 with input: \n",
      "question: what was the last year where this team was a part of the usl a-league?\n",
      "table: |    |   Year |   Division | League              | Regular Season   | Playoffs        | Open Cup        | Avg. Attendance   |\n",
      "|---:|-------:|-----------:|:--------------------|:-----------------|:----...\n",
      "\n",
      "\u001b[0m\u001b[1;3;38;2;155;135;227m> Running module b6f35e9f-8e7a-440f-826e-6c728a9b8996 with input: \n",
      "messages: You are an advanced AI capable of analyzing and understanding information within tables. Read the table below.\n",
      "\n",
      "|    |   Year |   Division | League              | Regular Season   | Playoffs        | ...\n",
      "\n",
      "\u001b[0m\u001b[1;3;38;2;155;135;227m> Running module 2892dec8-c54b-4639-8b6f-2500162b4b19 with input: \n",
      "question: what was the last year where this team was a part of the usl a-league?\n",
      "table: |    |   Year |   Division | League              | Regular Season   | Playoffs        | Open Cup        | Avg. Attendance   |\n",
      "|---:|-------:|-----------:|:--------------------|:-----------------|:----...\n",
      "\n",
      "\u001b[0m\u001b[1;3;38;2;155;135;227m> Running module 609e4f2d-6fad-492a-a8ed-d48694cf3a08 with input: \n",
      "messages: You are an advanced AI capable of analyzing and understanding information within tables. Read the table below.\n",
      "\n",
      "|    |   Year |   Division | League              | Regular Season   | Playoffs        | ...\n",
      "\n",
      "\u001b[0m\u001b[1;3;38;2;155;135;227m> Running module e05f8f36-9a7f-492e-a2f6-c8ec19bbef4e with input: \n",
      "question: what was the last year where this team was a part of the usl a-league?\n",
      "table: |    |   Year |   Division | League              | Regular Season   | Playoffs        | Open Cup        | Avg. Attendance   |\n",
      "|---:|-------:|-----------:|:--------------------|:-----------------|:----...\n",
      "\n",
      "\u001b[0m\u001b[1;3;38;2;155;135;227m> Running module b50c4862-bdb5-431a-98a3-754d67f60736 with input: \n",
      "messages: You are an advanced AI capable of analyzing and understanding information within tables. Read the table below.\n",
      "\n",
      "|    |   Year |   Division | League              | Regular Season   | Playoffs        | ...\n",
      "\n",
      "\u001b[0m> Pandas Instructions:\n",
      "```\n",
      "df[df['League'] == 'USL A-League']['Year'].max()\n",
      "```\n",
      "> Pandas Output: 2004\n",
      "> Pandas Instructions:\n",
      "```\n",
      "df[df['League'] == 'USL A-League']['Year'].max()\n",
      "```\n",
      "> Pandas Output: 2004\n",
      "> Pandas Instructions:\n",
      "```\n",
      "df[df['League'] == 'USL A-League']['Year'].max()\n",
      "```\n",
      "> Pandas Output: 2004\n",
      "> Pandas Instructions:\n",
      "```\n",
      "df[df['League'] == 'USL A-League']['Year'].max()\n",
      "```\n",
      "> Pandas Output: 2004\n",
      "> Pandas Instructions:\n",
      "```\n",
      "df[df['League'] == 'USL A-League']['Year'].max()\n",
      "```\n",
      "> Pandas Output: 2004\n",
      "\u001b[1;3;38;2;155;135;227m> Running module 95e3f504-36a8-43d0-9d5c-c036e8069306 with input: \n",
      "input: assistant: To find the last year in which this team was a part of the USL A-League, we need to go through each row in the table and look for the division column where the value is \"USL A-League\". \n",
      "\n",
      "Fr...\n",
      "\n",
      "\u001b[0m\u001b[1;3;38;2;155;135;227m> Running module 8d411a33-1fc8-4b6e-9ad0-850842453baa with input: \n",
      "input: assistant: Step 1: Identify the rows where the Division is \"USL A-League\".\n",
      "The rows with the Division as \"USL A-League\" are rows 0, 1, 2, and 3.\n",
      "\n",
      "Step 2: Find the last year from those rows.\n",
      "The last y...\n",
      "\n",
      "\u001b[0m\u001b[1;3;38;2;155;135;227m> Running module e0d252f4-6ae7-4842-9168-290e4de489ec with input: \n",
      "input: assistant: To determine the last year where this team was a part of the USL A-League, we need to examine the \"League\" column in the table. We will look for the last occurrence of \"USL A-League.\"\n",
      "\n",
      "The ...\n",
      "\n",
      "\u001b[0m\u001b[1;3;38;2;155;135;227m> Running module 5c972c1e-5947-4297-b4e8-edb04c63dd82 with input: \n",
      "input: assistant: To determine the last year in which this team was a part of the USL A-League, we need to look at the \"League\" column in the table. Starting from the bottom of the table, we can see that the...\n",
      "\n",
      "\u001b[0m\u001b[1;3;38;2;155;135;227m> Running module 52fecf7b-c821-4aa6-a93f-0dd302d835ad with input: \n",
      "input: assistant: To determine the last year the team was a part of the USL A-League, let's analyze the \"League\" column in the table.\n",
      "\n",
      "Looking at the table, the team was a part of the USL A-League in the fol...\n",
      "\n",
      "\u001b[0mText results: ['2003', '2003', '2004', '2003', '2004']\n",
      "Symbolic results: ['2004', '2004', '2004', '2004', '2004']\n",
      "2004\n"
     ]
    }
   ],
   "source": [
    "response = await query_engine.aquery(example['utterance'])\n",
    "print(response)"
   ]
  },
  {
   "cell_type": "code",
   "execution_count": null,
   "metadata": {},
   "outputs": [],
   "source": []
  }
 ],
 "metadata": {
  "kernelspec": {
   "display_name": "Python 3 (ipykernel)",
   "language": "python",
   "name": "python3"
  },
  "language_info": {
   "codemirror_mode": {
    "name": "ipython",
    "version": 3
   },
   "file_extension": ".py",
   "mimetype": "text/x-python",
   "name": "python",
   "nbconvert_exporter": "python",
   "pygments_lexer": "ipython3",
   "version": "3.9.16"
  }
 },
 "nbformat": 4,
 "nbformat_minor": 4
}
